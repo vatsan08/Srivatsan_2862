{
  "cells": [
    {
      "cell_type": "markdown",
      "metadata": {
        "id": "view-in-github",
        "colab_type": "text"
      },
      "source": [
        "<a href=\"https://colab.research.google.com/github/vatsan08/Srivatsan_2862/blob/main/Srivatsan_R_1551.ipynb\" target=\"_parent\"><img src=\"https://colab.research.google.com/assets/colab-badge.svg\" alt=\"Open In Colab\"/></a>"
      ]
    },
    {
      "cell_type": "markdown",
      "source": [],
      "metadata": {
        "id": "sGSd39iuLc3Z"
      }
    },
    {
      "cell_type": "code",
      "source": [
        "def Temperature_modeling(a,b,c,time):\n",
        "  temperature = a * time**2 + b * time + c\n",
        "  return temperature"
      ],
      "metadata": {
        "id": "end8VO8suvQh"
      },
      "execution_count": null,
      "outputs": []
    },
    {
      "cell_type": "code",
      "source": [
        "a,b,c=0.1,2,10\n",
        "time = 5"
      ],
      "metadata": {
        "id": "qFeqxAsovL5n"
      },
      "execution_count": null,
      "outputs": []
    },
    {
      "cell_type": "code",
      "source": [
        "print(\"Hard-coded variables for weather modeling\")\n",
        "print(\"Temperature for hardcoded coefficients at time\", time, \"hours:\", Temperature_modeling(a,b,c,time))"
      ],
      "metadata": {
        "colab": {
          "base_uri": "https://localhost:8080/"
        },
        "id": "MptKoY7Hw-aH",
        "outputId": "16f2fbb7-dc97-4ee1-d056-c23a16b89598"
      },
      "execution_count": null,
      "outputs": [
        {
          "output_type": "stream",
          "name": "stdout",
          "text": [
            "Hard-coded variables for weather modeling\n",
            "Temperature for hardcoded coefficients at time 5 hours: 22.5\n"
          ]
        }
      ]
    },
    {
      "cell_type": "code",
      "source": [
        "a=float(input(\"Enter the value of a:\"))\n",
        "b=float(input(\"Enter the value of b:\"))\n",
        "c=float(input(\"Enter the value of c:\"))"
      ],
      "metadata": {
        "colab": {
          "base_uri": "https://localhost:8080/"
        },
        "id": "81k169YOxo6Z",
        "outputId": "23cb2b1c-c6ae-4a9c-ec84-e7a5f3c1ffcd"
      },
      "execution_count": null,
      "outputs": [
        {
          "name": "stdout",
          "output_type": "stream",
          "text": [
            "Enter the value of a:0.1\n",
            "Enter the value of b:2\n",
            "Enter the value of c:10\n"
          ]
        }
      ]
    },
    {
      "cell_type": "code",
      "source": [
        "time=float(input(\"enter time\"))"
      ],
      "metadata": {
        "colab": {
          "base_uri": "https://localhost:8080/"
        },
        "id": "G4nlHi-Gyco0",
        "outputId": "67c8ea22-a155-4f73-d634-c592c86359cc"
      },
      "execution_count": null,
      "outputs": [
        {
          "name": "stdout",
          "output_type": "stream",
          "text": [
            "enter time4\n"
          ]
        }
      ]
    },
    {
      "cell_type": "code",
      "source": [
        "#variables read from keyboard\n",
        "print(\"Hard-coded variables for weather modeling\")\n",
        "print(\"Temperature form keyboard coefficients at time\", time, \"hours:\", Temperature_modeling(a,b,c,time))"
      ],
      "metadata": {
        "colab": {
          "base_uri": "https://localhost:8080/"
        },
        "id": "3qjETs45yn4b",
        "outputId": "311175d1-f37e-4790-ff92-7d2d8c31a87b"
      },
      "execution_count": null,
      "outputs": [
        {
          "output_type": "stream",
          "name": "stdout",
          "text": [
            "Hard-coded variables for weather modeling\n",
            "Temperature form keyboard coefficients at time 4.0 hours: 19.6\n"
          ]
        }
      ]
    },
    {
      "cell_type": "code",
      "source": [
        "# Read coefficients from a file\n",
        "def read_from_file(input1):\n",
        "  with open(input1, 'r') as file:\n",
        "    lines = input1.readlines()\n",
        "  coefficients = [tuple (map(float, line.strip().split(','))) for line in lines]\n",
        "  return coefficients"
      ],
      "metadata": {
        "id": "a6KiAZoLzsHB"
      },
      "execution_count": null,
      "outputs": []
    },
    {
      "source": [
        "def read_from_file(input1):\n",
        "  with open(input1, 'r') as file: # open the file using the filename provided\n",
        "    lines = file.readlines()  # read all lines from the file object using readlines\n",
        "  coefficients = [tuple (map(float, line.strip().split(','))) for line in lines]\n",
        "  return coefficients"
      ],
      "cell_type": "code",
      "metadata": {
        "id": "V1APXIHa2YTf"
      },
      "execution_count": null,
      "outputs": []
    },
    {
      "cell_type": "code",
      "source": [
        "import csv\n",
        "\n",
        "with open('/content/coefficient.txt', 'r') as file:\n",
        "    reader = csv.reader(file)\n",
        "    for idx, row in enumerate(reader):\n",
        "        try:\n",
        "            a, b, c, time = map(float, row)\n",
        "            print(\"Read from a file for weather modeling\")\n",
        "            temp = Temperature_modeling(a, b, c, time)\n",
        "            print(f\"Temperature from keyboard coefficients at time {time} hours: {temp}\")\n",
        "        except ValueError:\n",
        "            print(f\"Skipping row {idx + 1} due to insufficient values: {row}\")"
      ],
      "metadata": {
        "colab": {
          "base_uri": "https://localhost:8080/"
        },
        "id": "53JIaONPGYk0",
        "outputId": "c0e38f15-f2aa-4528-a402-30fef5741e7a"
      },
      "execution_count": null,
      "outputs": [
        {
          "output_type": "stream",
          "name": "stdout",
          "text": [
            "Skipping row 1 due to insufficient values: ['1.5 2.3 0.4 5.8']\n",
            "Skipping row 2 due to insufficient values: ['2.0 1.0 -0.2 3.0']\n",
            "Skipping row 3 due to insufficient values: ['0.5 0.7 1.1 8.0']\n"
          ]
        }
      ]
    },
    {
      "cell_type": "code",
      "source": [
        "for idx, (a,b,c, time) in enumerate(coefficients): temperature=Temperature_modeling(a,b,c, time)\n",
        "print(\"read from a file for weather modeling\")\n",
        "print (\"temperature from keyboard coefficients at time\",time, \"hours:\", Temperature_modeling (a,b,c, time))"
      ],
      "metadata": {
        "colab": {
          "base_uri": "https://localhost:8080/"
        },
        "id": "D7EwnWkzGusU",
        "outputId": "d468cd81-af19-4f0b-bcad-81dc19b049f1"
      },
      "execution_count": null,
      "outputs": [
        {
          "output_type": "stream",
          "name": "stdout",
          "text": [
            "read from a file for weather modeling\n",
            "temperature from keyboard coefficients at time 5.8 hours: 48.24\n"
          ]
        }
      ]
    }
  ],
  "metadata": {
    "colab": {
      "provenance": [],
      "include_colab_link": true
    },
    "kernelspec": {
      "display_name": "Python 3",
      "name": "python3"
    }
  },
  "nbformat": 4,
  "nbformat_minor": 0
}